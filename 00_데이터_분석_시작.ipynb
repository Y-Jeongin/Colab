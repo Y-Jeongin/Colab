{
  "nbformat": 4,
  "nbformat_minor": 0,
  "metadata": {
    "colab": {
      "provenance": [],
      "gpuType": "T4",
      "authorship_tag": "ABX9TyNRVxPtVWN13UWAaAEglrfB",
      "include_colab_link": true
    },
    "kernelspec": {
      "name": "python3",
      "display_name": "Python 3"
    },
    "language_info": {
      "name": "python"
    },
    "accelerator": "GPU"
  },
  "cells": [
    {
      "cell_type": "markdown",
      "metadata": {
        "id": "view-in-github",
        "colab_type": "text"
      },
      "source": [
        "<a href=\"https://colab.research.google.com/github/Y-Jeongin/Colab/blob/main/00_%EB%8D%B0%EC%9D%B4%ED%84%B0_%EB%B6%84%EC%84%9D_%EC%8B%9C%EC%9E%91.ipynb\" target=\"_parent\"><img src=\"https://colab.research.google.com/assets/colab-badge.svg\" alt=\"Open In Colab\"/></a>"
      ]
    },
    {
      "cell_type": "markdown",
      "source": [
        "1. 시작하기"
      ],
      "metadata": {
        "id": "RYZ1XnULgcin"
      }
    },
    {
      "cell_type": "code",
      "source": [
        "print('Hello Google Colab')"
      ],
      "metadata": {
        "colab": {
          "base_uri": "https://localhost:8080/"
        },
        "id": "cXw7Y4rSgcEH",
        "outputId": "fc8d2c33-8277-4657-825d-32397e0f0da9"
      },
      "execution_count": null,
      "outputs": [
        {
          "output_type": "stream",
          "name": "stdout",
          "text": [
            "Hello Google Colab\n"
          ]
        }
      ]
    },
    {
      "cell_type": "markdown",
      "source": [
        "2. Numpy(넘파이)\n",
        "- Numerical Python의 줄임말\n",
        "- Numpy는 벡터 및 행렬 연산에 편리한 기능을 제공\n",
        "- Pandas와 더불어 데이터 분석에 대표적인 라이브러리\n",
        "- 넘파이 배열이라고 부름, 대표적인 자료형 Ndarray\n",
        "- python 자료 구조 : 변수, list, tuple, set, dict\n",
        "- R 자료 구조 : matrix(2차원 배열), array(n차원 배열), dataframe"
      ],
      "metadata": {
        "id": "OrO8SRPEiq2V"
      }
    },
    {
      "cell_type": "code",
      "source": [
        "# 모듈 연결\n",
        "import numpy as np"
      ],
      "metadata": {
        "id": "NYvG8vuFg7kw"
      },
      "execution_count": null,
      "outputs": []
    },
    {
      "cell_type": "markdown",
      "source": [
        "- 파이썬의 List 자료형을 확장한 개념으로 처리 속도가 빠르다.\n",
        "- 배열 : 적은 메모리로 많은 데이터를 빠르게 처리한다.\n",
        "- 모든 원소가 같은 자료형이어야 한다.\n",
        "- 다차원 배열 자료 구조 ndarray 클래스 제공"
      ],
      "metadata": {
        "id": "90ueRtP3k-1N"
      }
    },
    {
      "cell_type": "code",
      "source": [
        "# 리스트 객체 생성\n",
        "a = [1, 2, 3]\n",
        "b = [4, 5, 6]\n",
        "print('a : ', a)\n",
        "print('b : ', b)"
      ],
      "metadata": {
        "colab": {
          "base_uri": "https://localhost:8080/"
        },
        "id": "5nE1D1Dik3j-",
        "outputId": "7900cb25-2125-403c-a2da-0f429d6bda54"
      },
      "execution_count": null,
      "outputs": [
        {
          "output_type": "stream",
          "name": "stdout",
          "text": [
            "a :  [1, 2, 3]\n",
            "b :  [4, 5, 6]\n"
          ]
        }
      ]
    },
    {
      "cell_type": "code",
      "source": [
        "c = [1, 2, 3, 'a', 'b', 'c', [5, 6, 7]]\n",
        "print(c)"
      ],
      "metadata": {
        "colab": {
          "base_uri": "https://localhost:8080/"
        },
        "id": "qhisYplPk6uI",
        "outputId": "fcf9f77c-5f37-4d27-c669-62ce35ee83f2"
      },
      "execution_count": null,
      "outputs": [
        {
          "output_type": "stream",
          "name": "stdout",
          "text": [
            "[1, 2, 3, 'a', 'b', 'c', [5, 6, 7]]\n"
          ]
        }
      ]
    },
    {
      "cell_type": "code",
      "source": [
        "# 리스트 연산 : '+' = 연결, '*' = 반복\n",
        "print(a + b)"
      ],
      "metadata": {
        "colab": {
          "base_uri": "https://localhost:8080/"
        },
        "id": "DSRwRJxWk647",
        "outputId": "52985460-1581-4c5c-dea0-d0e5f85b496f"
      },
      "execution_count": null,
      "outputs": [
        {
          "output_type": "stream",
          "name": "stdout",
          "text": [
            "[1, 2, 3, 4, 5, 6]\n"
          ]
        }
      ]
    },
    {
      "cell_type": "code",
      "source": [
        "print(a * 3)"
      ],
      "metadata": {
        "colab": {
          "base_uri": "https://localhost:8080/"
        },
        "id": "9XoAlv12k7BD",
        "outputId": "fdde90b2-5e90-4850-8b0c-7664a65a14ce"
      },
      "execution_count": null,
      "outputs": [
        {
          "output_type": "stream",
          "name": "stdout",
          "text": [
            "[1, 2, 3, 1, 2, 3, 1, 2, 3]\n"
          ]
        }
      ]
    },
    {
      "cell_type": "markdown",
      "source": [
        "3. 1차원 배열 만들기\n",
        "- python의 List를 이용한 ndarray 객체 생성\n",
        "- np.array() 함수를 이용한 배열 생성"
      ],
      "metadata": {
        "id": "l_sZkh0pmm1d"
      }
    },
    {
      "cell_type": "code",
      "source": [
        "data1 = [1, 2, 3, 4, 5]\n",
        "print(data1)\n",
        "print(type(data1))"
      ],
      "metadata": {
        "colab": {
          "base_uri": "https://localhost:8080/"
        },
        "id": "gO7E89Sak7f5",
        "outputId": "17d14e1f-3371-4bbc-b6a3-f4ffe912221e"
      },
      "execution_count": null,
      "outputs": [
        {
          "output_type": "stream",
          "name": "stdout",
          "text": [
            "[1, 2, 3, 4, 5]\n",
            "<class 'list'>\n"
          ]
        }
      ]
    },
    {
      "cell_type": "code",
      "source": [
        "arr1 = np.array(data1)\n",
        "print(arr1)\n",
        "print(type(arr1))"
      ],
      "metadata": {
        "colab": {
          "base_uri": "https://localhost:8080/"
        },
        "id": "vBwjf1kfk701",
        "outputId": "6f698270-cefc-4390-a7eb-0dd0fa79dcc8"
      },
      "execution_count": null,
      "outputs": [
        {
          "output_type": "stream",
          "name": "stdout",
          "text": [
            "[1 2 3 4 5]\n",
            "<class 'numpy.ndarray'>\n"
          ]
        }
      ]
    },
    {
      "cell_type": "markdown",
      "source": [
        "3-1. 벡터화 연산(Vectorized operation)\n",
        "- 스칼라 : 1개의 값을 가진 자료형\n",
        "- 벡터 : 1개 이상의 값을 가진 자료형\n",
        "- 자료구조의 요소단위로 계산을 수행하는 것을 벡터화 연산이라고 부른다."
      ],
      "metadata": {
        "id": "JInJ0IT6nrCF"
      }
    },
    {
      "cell_type": "code",
      "source": [
        "print(a + b)"
      ],
      "metadata": {
        "colab": {
          "base_uri": "https://localhost:8080/"
        },
        "id": "YkjTw51ak8Kc",
        "outputId": "5c5b4d2a-7e0f-4523-e6bc-a6f5421be567"
      },
      "execution_count": null,
      "outputs": [
        {
          "output_type": "stream",
          "name": "stdout",
          "text": [
            "[1, 2, 3, 4, 5, 6]\n"
          ]
        }
      ]
    },
    {
      "cell_type": "code",
      "source": [
        "res = []\n",
        "\n",
        "for i in range(3):\n",
        "    temp = a[i] + b[i]\n",
        "    res.append(temp)\n",
        "\n",
        "print(res)"
      ],
      "metadata": {
        "colab": {
          "base_uri": "https://localhost:8080/"
        },
        "id": "irBUK7xXnrg8",
        "outputId": "7471313b-230c-42aa-e1c2-f3e720b4342a"
      },
      "execution_count": null,
      "outputs": [
        {
          "output_type": "stream",
          "name": "stdout",
          "text": [
            "[5, 7, 9]\n"
          ]
        }
      ]
    },
    {
      "cell_type": "code",
      "source": [
        "arr2 = np.array(a)\n",
        "arr3 = np.array(b)\n",
        "print(arr2 + arr3)"
      ],
      "metadata": {
        "colab": {
          "base_uri": "https://localhost:8080/"
        },
        "id": "_Wwt5sOGnrjd",
        "outputId": "d3878663-b2b2-41f2-cc82-95f8c6ae44fb"
      },
      "execution_count": null,
      "outputs": [
        {
          "output_type": "stream",
          "name": "stdout",
          "text": [
            "[5 7 9]\n"
          ]
        }
      ]
    },
    {
      "cell_type": "code",
      "source": [
        "x = [1, 2, 3, 4, 5]\n",
        "print(x * 2)"
      ],
      "metadata": {
        "colab": {
          "base_uri": "https://localhost:8080/"
        },
        "id": "WqaCyCOPnrl4",
        "outputId": "7261a4a8-7250-4263-b6fc-b2a5abd707ad"
      },
      "execution_count": null,
      "outputs": [
        {
          "output_type": "stream",
          "name": "stdout",
          "text": [
            "[1, 2, 3, 4, 5, 1, 2, 3, 4, 5]\n"
          ]
        }
      ]
    },
    {
      "cell_type": "code",
      "source": [
        "res = [x[i]*2 for i in range(5)]\n",
        "print(res)"
      ],
      "metadata": {
        "colab": {
          "base_uri": "https://localhost:8080/"
        },
        "id": "HgS1F9_9nrok",
        "outputId": "87d7bd57-8654-462b-f560-04ae8270f093"
      },
      "execution_count": null,
      "outputs": [
        {
          "output_type": "stream",
          "name": "stdout",
          "text": [
            "[2, 4, 6, 8, 10]\n"
          ]
        }
      ]
    },
    {
      "cell_type": "code",
      "source": [
        "data = np.array(x)\n",
        "print(data * 2)"
      ],
      "metadata": {
        "colab": {
          "base_uri": "https://localhost:8080/"
        },
        "id": "mb8s-Igxnrq2",
        "outputId": "28c31dfa-8223-4f51-86ad-2862dd506b35"
      },
      "execution_count": null,
      "outputs": [
        {
          "output_type": "stream",
          "name": "stdout",
          "text": [
            "[ 2  4  6  8 10]\n"
          ]
        }
      ]
    },
    {
      "cell_type": "code",
      "source": [
        "# type() : 자료형, 함수\n",
        "print(type(data))"
      ],
      "metadata": {
        "colab": {
          "base_uri": "https://localhost:8080/"
        },
        "id": "k84bmed4nrs8",
        "outputId": "aea23878-70d5-4e18-e4fd-ffa0232f8984"
      },
      "execution_count": null,
      "outputs": [
        {
          "output_type": "stream",
          "name": "stdout",
          "text": [
            "<class 'numpy.ndarray'>\n"
          ]
        }
      ]
    },
    {
      "cell_type": "markdown",
      "source": [
        "### numpy 자료형\n",
        "- 부호가 있는 정수 int(8, 16, 32, 64)\n",
        "- 부호가 없는 정수 unit(8, 16, 32, 64)\n",
        "- 실수 float(16, 32, 64, 128)\n",
        "- 복소수 complex(64, 128, 256)\n",
        "- 논리형 bool(True, False)\n",
        "- 문자열 string"
      ],
      "metadata": {
        "id": "db8XL6GtrQ1R"
      }
    },
    {
      "cell_type": "code",
      "source": [
        "# dtype : data type, 요소의 자료형, 속성\n",
        "print(data.dtype)"
      ],
      "metadata": {
        "colab": {
          "base_uri": "https://localhost:8080/"
        },
        "id": "vP99yqrTpwbF",
        "outputId": "ac38c4d3-6e56-43ad-adbf-e5e9e4cf5503"
      },
      "execution_count": null,
      "outputs": [
        {
          "output_type": "stream",
          "name": "stdout",
          "text": [
            "int64\n"
          ]
        }
      ]
    },
    {
      "cell_type": "code",
      "source": [
        "# shape : 배열의 형태(크기), 1차원, 2차원, 3차원, ….\n",
        "print(data.shape)"
      ],
      "metadata": {
        "colab": {
          "base_uri": "https://localhost:8080/"
        },
        "id": "kSl-vvAWpxBB",
        "outputId": "bbd08423-ed09-4929-80d2-ed49f56bb916"
      },
      "execution_count": null,
      "outputs": [
        {
          "output_type": "stream",
          "name": "stdout",
          "text": [
            "(5,)\n"
          ]
        }
      ]
    },
    {
      "cell_type": "markdown",
      "source": [
        "3-2. 2차원 배열 만들기\n",
        "- 행과 열을 가진 배열\n",
        "- 2차원 배열 행렬(matrix) : row, column\n"
      ],
      "metadata": {
        "id": "ofR0pQflrzji"
      }
    },
    {
      "cell_type": "code",
      "source": [
        "y = [[1, 2, 3,], [4, 5, 6]]\n",
        "print(y)"
      ],
      "metadata": {
        "colab": {
          "base_uri": "https://localhost:8080/"
        },
        "id": "6Lc4W7g4pxHn",
        "outputId": "39ad3cc6-c0de-4413-a970-9528f08c9974"
      },
      "execution_count": null,
      "outputs": [
        {
          "output_type": "stream",
          "name": "stdout",
          "text": [
            "[[1, 2, 3], [4, 5, 6]]\n"
          ]
        }
      ]
    },
    {
      "cell_type": "code",
      "source": [
        "arr4 = np.array(y)\n",
        "print(arr4)"
      ],
      "metadata": {
        "colab": {
          "base_uri": "https://localhost:8080/"
        },
        "id": "QsR-RN81pxNI",
        "outputId": "dcd5dd8e-1780-4006-afad-0eaf61e4e72f"
      },
      "execution_count": null,
      "outputs": [
        {
          "output_type": "stream",
          "name": "stdout",
          "text": [
            "[[1 2 3]\n",
            " [4 5 6]]\n"
          ]
        }
      ]
    },
    {
      "cell_type": "code",
      "source": [
        "# 행의 개수\n",
        "len(arr4)"
      ],
      "metadata": {
        "colab": {
          "base_uri": "https://localhost:8080/"
        },
        "id": "twgF_EQtpxSh",
        "outputId": "03097399-b77d-441a-aa29-1a3f772d4fb9"
      },
      "execution_count": null,
      "outputs": [
        {
          "output_type": "execute_result",
          "data": {
            "text/plain": [
              "2"
            ]
          },
          "metadata": {},
          "execution_count": 27
        }
      ]
    },
    {
      "cell_type": "code",
      "source": [
        "# 열의 개수\n",
        "len(arr4[0])"
      ],
      "metadata": {
        "colab": {
          "base_uri": "https://localhost:8080/"
        },
        "id": "aQzYTZdBpxYQ",
        "outputId": "84ab68fb-c4d8-4505-c410-bdb237fd2250"
      },
      "execution_count": null,
      "outputs": [
        {
          "output_type": "execute_result",
          "data": {
            "text/plain": [
              "3"
            ]
          },
          "metadata": {},
          "execution_count": 28
        }
      ]
    },
    {
      "cell_type": "code",
      "source": [
        "data2 = np.array([[1, 2, 3], [4, 5, 6]])\n",
        "data2"
      ],
      "metadata": {
        "colab": {
          "base_uri": "https://localhost:8080/"
        },
        "id": "lIjASYT-pxeN",
        "outputId": "114695d7-e766-415a-b1e4-2e18baf32753"
      },
      "execution_count": null,
      "outputs": [
        {
          "output_type": "execute_result",
          "data": {
            "text/plain": [
              "array([[1, 2, 3],\n",
              "       [4, 5, 6]])"
            ]
          },
          "metadata": {},
          "execution_count": 29
        }
      ]
    },
    {
      "cell_type": "markdown",
      "source": [
        "3-3. 3차원 배열 만들기"
      ],
      "metadata": {
        "id": "Rn6ZutPMtBpM"
      }
    },
    {
      "cell_type": "code",
      "source": [
        "d = np.array([[[1, 2, 3, 4], [5, 6, 7, 8], [9, 10, 11, 12]],\n",
        "     [[11, 12, 13, 14], [15, 16, 17, 18], [19, 20, 21, 22]]])\n",
        "d"
      ],
      "metadata": {
        "colab": {
          "base_uri": "https://localhost:8080/"
        },
        "id": "zufSoG3zsqds",
        "outputId": "b4071323-dd98-4161-9839-46d4ad0b5f0e"
      },
      "execution_count": null,
      "outputs": [
        {
          "output_type": "execute_result",
          "data": {
            "text/plain": [
              "array([[[ 1,  2,  3,  4],\n",
              "        [ 5,  6,  7,  8],\n",
              "        [ 9, 10, 11, 12]],\n",
              "\n",
              "       [[11, 12, 13, 14],\n",
              "        [15, 16, 17, 18],\n",
              "        [19, 20, 21, 22]]])"
            ]
          },
          "metadata": {},
          "execution_count": 30
        }
      ]
    },
    {
      "cell_type": "markdown",
      "source": [
        "3-4. 배열의 차원과 크기\n",
        "- ndim 속성 : 배열의 차원\n",
        "- shape 속성 : 배열의 크기"
      ],
      "metadata": {
        "id": "Vdk-uIwEuEXT"
      }
    },
    {
      "cell_type": "code",
      "source": [
        "a = np.array([1, 2, 3])\n",
        "print(a.ndim)\n",
        "print(a.shape)"
      ],
      "metadata": {
        "colab": {
          "base_uri": "https://localhost:8080/"
        },
        "id": "aD6Moa9Wsq1Q",
        "outputId": "e08ffb66-252c-49b9-cb9b-1df210f5f5f6"
      },
      "execution_count": null,
      "outputs": [
        {
          "output_type": "stream",
          "name": "stdout",
          "text": [
            "1\n",
            "(3,)\n"
          ]
        }
      ]
    },
    {
      "cell_type": "code",
      "source": [
        "b = np.array([[1, 2, 3], [4, 5, 6]])\n",
        "print(b.ndim)\n",
        "print(b.shape)"
      ],
      "metadata": {
        "colab": {
          "base_uri": "https://localhost:8080/"
        },
        "id": "Ijs8xBAksq8u",
        "outputId": "9f776cd9-da69-43eb-de2f-16db85150902"
      },
      "execution_count": null,
      "outputs": [
        {
          "output_type": "stream",
          "name": "stdout",
          "text": [
            "2\n",
            "(2, 3)\n"
          ]
        }
      ]
    },
    {
      "cell_type": "code",
      "source": [
        "print(d.ndim)\n",
        "print(d.shape)"
      ],
      "metadata": {
        "colab": {
          "base_uri": "https://localhost:8080/"
        },
        "id": "O_I0Xn3nsrCo",
        "outputId": "772dfb8b-a025-47aa-fec3-684674ebd680"
      },
      "execution_count": null,
      "outputs": [
        {
          "output_type": "stream",
          "name": "stdout",
          "text": [
            "3\n",
            "(2, 3, 4)\n"
          ]
        }
      ]
    },
    {
      "cell_type": "markdown",
      "source": [
        "4. 배열의 인덱싱(Indexing)\n",
        "- 리스트의 인덱싱과 동일하다"
      ],
      "metadata": {
        "id": "MbjLifwHu8ws"
      }
    },
    {
      "cell_type": "code",
      "source": [
        "a = np.array([0, 1, 2, 3, 4])\n",
        "print(a[2])\n",
        "print(a[-1])"
      ],
      "metadata": {
        "colab": {
          "base_uri": "https://localhost:8080/"
        },
        "id": "Bef1RnfasrId",
        "outputId": "ea888f35-e321-4ee3-b5aa-be58c3d2966e"
      },
      "execution_count": null,
      "outputs": [
        {
          "output_type": "stream",
          "name": "stdout",
          "text": [
            "2\n",
            "4\n"
          ]
        }
      ]
    },
    {
      "cell_type": "code",
      "source": [
        "b = np.array([[0, 1, 2], [3, 4, 5]])\n",
        "print(b)"
      ],
      "metadata": {
        "colab": {
          "base_uri": "https://localhost:8080/"
        },
        "id": "Eg8z-CVQsrPL",
        "outputId": "d382bb62-a575-4f9b-b67d-42b13b38f3a1"
      },
      "execution_count": null,
      "outputs": [
        {
          "output_type": "stream",
          "name": "stdout",
          "text": [
            "[[0 1 2]\n",
            " [3 4 5]]\n"
          ]
        }
      ]
    },
    {
      "cell_type": "code",
      "source": [
        "print(b[0, 0])  # (행, 열)\n",
        "print(b[0, 1])\n",
        "print(b[-1, -1])"
      ],
      "metadata": {
        "colab": {
          "base_uri": "https://localhost:8080/"
        },
        "id": "H5AYZNdvpxkE",
        "outputId": "bbfe6e0d-4d92-488f-acdb-028ac84e6655"
      },
      "execution_count": null,
      "outputs": [
        {
          "output_type": "stream",
          "name": "stdout",
          "text": [
            "0\n",
            "1\n",
            "5\n"
          ]
        }
      ]
    },
    {
      "cell_type": "markdown",
      "source": [
        "5. 배열 슬라이싱(slicing) : [행시작:행마지막], [ : , : ]\n",
        "- 파이썬의 슬라이싱과 동일하다"
      ],
      "metadata": {
        "id": "8wFWSu1Kvtny"
      }
    },
    {
      "cell_type": "code",
      "source": [
        "c = np.array([[0, 1, 2, 3], [4, 5, 6, 7]])\n",
        "print(c)"
      ],
      "metadata": {
        "colab": {
          "base_uri": "https://localhost:8080/"
        },
        "id": "QnsNwA-LpxpB",
        "outputId": "4d74576e-5fe4-44a9-8784-9a3636cda57d"
      },
      "execution_count": null,
      "outputs": [
        {
          "output_type": "stream",
          "name": "stdout",
          "text": [
            "[[0 1 2 3]\n",
            " [4 5 6 7]]\n"
          ]
        }
      ]
    },
    {
      "cell_type": "code",
      "source": [
        "# 첫번째 행 전체\n",
        "print(c[0, : ])"
      ],
      "metadata": {
        "colab": {
          "base_uri": "https://localhost:8080/"
        },
        "id": "XJQV3I9KnrvO",
        "outputId": "4cf24071-fb5c-4da6-d540-28acd6359d26"
      },
      "execution_count": null,
      "outputs": [
        {
          "output_type": "stream",
          "name": "stdout",
          "text": [
            "[0 1 2 3]\n"
          ]
        }
      ]
    },
    {
      "cell_type": "code",
      "source": [
        "# 두번째 열 전체\n",
        "print(c[ : , 1])"
      ],
      "metadata": {
        "colab": {
          "base_uri": "https://localhost:8080/"
        },
        "id": "SsDNFF0GwI_G",
        "outputId": "416a9c8f-03c9-49ca-b1c9-8c46de8f5141"
      },
      "execution_count": null,
      "outputs": [
        {
          "output_type": "stream",
          "name": "stdout",
          "text": [
            "[1 5]\n"
          ]
        }
      ]
    },
    {
      "cell_type": "code",
      "source": [
        "# 두번째 행의 두번째 열부터 마지막 열까지\n",
        "print(c[1, 1:])"
      ],
      "metadata": {
        "colab": {
          "base_uri": "https://localhost:8080/"
        },
        "id": "096rkpxjwJBO",
        "outputId": "3996b074-414d-4272-92d2-237a5ce2822d"
      },
      "execution_count": null,
      "outputs": [
        {
          "output_type": "stream",
          "name": "stdout",
          "text": [
            "[5 6 7]\n"
          ]
        }
      ]
    },
    {
      "cell_type": "code",
      "source": [
        "print(c[ :2, :2])"
      ],
      "metadata": {
        "colab": {
          "base_uri": "https://localhost:8080/"
        },
        "id": "Z9UJ3sY5wJDk",
        "outputId": "6d68c5f2-e895-48e9-8b8f-c848553f0271"
      },
      "execution_count": null,
      "outputs": [
        {
          "output_type": "stream",
          "name": "stdout",
          "text": [
            "[[0 1]\n",
            " [4 5]]\n"
          ]
        }
      ]
    }
  ]
}